{
  "nbformat": 4,
  "nbformat_minor": 0,
  "metadata": {
    "colab": {
      "name": "ADS_Mich_3_W4.ipynb",
      "provenance": [],
      "collapsed_sections": []
    },
    "kernelspec": {
      "name": "python3",
      "display_name": "Python 3"
    }
  },
  "cells": [
    {
      "cell_type": "markdown",
      "metadata": {
        "id": "Wi0nywwxKFw2",
        "colab_type": "text"
      },
      "source": [
        "# Libraries"
      ]
    },
    {
      "cell_type": "code",
      "metadata": {
        "id": "MFpvIO0HKJ0W",
        "colab_type": "code",
        "colab": {}
      },
      "source": [
        "import pandas as pd\n",
        "import numpy as np\n",
        "from sklearn.tree import DecisionTreeClassifier\n",
        "from sklearn.model_selection import train_test_split\n",
        "from sklearn.metrics import roc_auc_score\n",
        "from sklearn.preprocessing import MinMaxScaler\n",
        "from sklearn.model_selection import GridSearchCV\n",
        "from sklearn.model_selection import cross_val_score\n",
        "from sklearn.pipeline import Pipeline\n",
        "from sklearn.pipeline import make_pipeline\n",
        "#from matplotlib import pyplot as plt\n",
        "from sklearn.svm import SVC\n",
        "from sklearn.neighbors import KNeighborsClassifier\n",
        "from sklearn.naive_bayes import GaussianNB\n",
        "from sklearn.ensemble import RandomForestClassifier\n",
        "from sklearn.linear_model import Ridge\n",
        "from sklearn.ensemble import VotingClassifier\n",
        "from sklearn.linear_model import LogisticRegression\n",
        "from sklearn.linear_model import Lasso\n",
        "from sklearn.preprocessing import LabelEncoder\n",
        "\n",
        "#%matplotlib inline"
      ],
      "execution_count": null,
      "outputs": []
    },
    {
      "cell_type": "markdown",
      "metadata": {
        "id": "9UwKpV5lIjiK",
        "colab_type": "text"
      },
      "source": [
        "# Read Data"
      ]
    },
    {
      "cell_type": "code",
      "metadata": {
        "id": "0fWxgvHs5f0C",
        "colab_type": "code",
        "colab": {}
      },
      "source": [
        "address=pd.read_csv('addresses.csv',engine='python')\n",
        "latlon=pd.read_csv('latlons.csv',engine='python')\n",
        "df=pd.read_csv('train.csv',engine='python')\n",
        "test_df=pd.read_csv('test.csv',engine='python')"
      ],
      "execution_count": null,
      "outputs": []
    },
    {
      "cell_type": "code",
      "metadata": {
        "id": "qE4L74ozJQpE",
        "colab_type": "code",
        "colab": {
          "base_uri": "https://localhost:8080/",
          "height": 548
        },
        "outputId": "e46e624a-caab-44b5-e0a6-440c607f9fae"
      },
      "source": [
        "df.head()"
      ],
      "execution_count": null,
      "outputs": [
        {
          "output_type": "execute_result",
          "data": {
            "text/html": [
              "<div>\n",
              "<style scoped>\n",
              "    .dataframe tbody tr th:only-of-type {\n",
              "        vertical-align: middle;\n",
              "    }\n",
              "\n",
              "    .dataframe tbody tr th {\n",
              "        vertical-align: top;\n",
              "    }\n",
              "\n",
              "    .dataframe thead th {\n",
              "        text-align: right;\n",
              "    }\n",
              "</style>\n",
              "<table border=\"1\" class=\"dataframe\">\n",
              "  <thead>\n",
              "    <tr style=\"text-align: right;\">\n",
              "      <th></th>\n",
              "      <th>ticket_id</th>\n",
              "      <th>agency_name</th>\n",
              "      <th>inspector_name</th>\n",
              "      <th>violator_name</th>\n",
              "      <th>violation_street_number</th>\n",
              "      <th>violation_street_name</th>\n",
              "      <th>violation_zip_code</th>\n",
              "      <th>mailing_address_str_number</th>\n",
              "      <th>mailing_address_str_name</th>\n",
              "      <th>city</th>\n",
              "      <th>state</th>\n",
              "      <th>zip_code</th>\n",
              "      <th>non_us_str_code</th>\n",
              "      <th>country</th>\n",
              "      <th>ticket_issued_date</th>\n",
              "      <th>hearing_date</th>\n",
              "      <th>violation_code</th>\n",
              "      <th>violation_description</th>\n",
              "      <th>disposition</th>\n",
              "      <th>fine_amount</th>\n",
              "      <th>admin_fee</th>\n",
              "      <th>state_fee</th>\n",
              "      <th>late_fee</th>\n",
              "      <th>discount_amount</th>\n",
              "      <th>clean_up_cost</th>\n",
              "      <th>judgment_amount</th>\n",
              "      <th>payment_amount</th>\n",
              "      <th>balance_due</th>\n",
              "      <th>payment_date</th>\n",
              "      <th>payment_status</th>\n",
              "      <th>collection_status</th>\n",
              "      <th>grafitti_status</th>\n",
              "      <th>compliance_detail</th>\n",
              "      <th>compliance</th>\n",
              "      <th>address</th>\n",
              "      <th>lat</th>\n",
              "      <th>lon</th>\n",
              "    </tr>\n",
              "  </thead>\n",
              "  <tbody>\n",
              "    <tr>\n",
              "      <th>0</th>\n",
              "      <td>22056</td>\n",
              "      <td>Buildings, Safety Engineering &amp; Env Department</td>\n",
              "      <td>Sims, Martinzie</td>\n",
              "      <td>INVESTMENT INC., MIDWEST MORTGAGE</td>\n",
              "      <td>2900.0</td>\n",
              "      <td>TYLER</td>\n",
              "      <td>NaN</td>\n",
              "      <td>3.0</td>\n",
              "      <td>S. WICKER</td>\n",
              "      <td>CHICAGO</td>\n",
              "      <td>IL</td>\n",
              "      <td>60606</td>\n",
              "      <td>NaN</td>\n",
              "      <td>USA</td>\n",
              "      <td>2004-03-16 11:40:00</td>\n",
              "      <td>2005-03-21 10:30:00</td>\n",
              "      <td>9-1-36(a)</td>\n",
              "      <td>Failure of owner to obtain certificate of comp...</td>\n",
              "      <td>Responsible by Default</td>\n",
              "      <td>250.0</td>\n",
              "      <td>20.0</td>\n",
              "      <td>10.0</td>\n",
              "      <td>25.0</td>\n",
              "      <td>0.0</td>\n",
              "      <td>0.0</td>\n",
              "      <td>305.0</td>\n",
              "      <td>0.0</td>\n",
              "      <td>305.0</td>\n",
              "      <td>NaN</td>\n",
              "      <td>NO PAYMENT APPLIED</td>\n",
              "      <td>NaN</td>\n",
              "      <td>NaN</td>\n",
              "      <td>non-compliant by no payment</td>\n",
              "      <td>0.0</td>\n",
              "      <td>2900 tyler, Detroit MI</td>\n",
              "      <td>42.390729</td>\n",
              "      <td>-83.124268</td>\n",
              "    </tr>\n",
              "    <tr>\n",
              "      <th>1</th>\n",
              "      <td>77242</td>\n",
              "      <td>Buildings, Safety Engineering &amp; Env Department</td>\n",
              "      <td>Sims, Martinzie</td>\n",
              "      <td>INV. INC., MIDWEST MORTGAGE</td>\n",
              "      <td>2900.0</td>\n",
              "      <td>TYLER</td>\n",
              "      <td>NaN</td>\n",
              "      <td>3.0</td>\n",
              "      <td>S. WACKER</td>\n",
              "      <td>CHICAGO</td>\n",
              "      <td>IL</td>\n",
              "      <td>60606</td>\n",
              "      <td>NaN</td>\n",
              "      <td>USA</td>\n",
              "      <td>2006-05-24 09:00:00</td>\n",
              "      <td>2006-06-27 15:00:00</td>\n",
              "      <td>9-1-36(a)</td>\n",
              "      <td>Failure of owner to obtain certificate of comp...</td>\n",
              "      <td>Responsible by Default</td>\n",
              "      <td>500.0</td>\n",
              "      <td>20.0</td>\n",
              "      <td>10.0</td>\n",
              "      <td>50.0</td>\n",
              "      <td>0.0</td>\n",
              "      <td>0.0</td>\n",
              "      <td>580.0</td>\n",
              "      <td>0.0</td>\n",
              "      <td>580.0</td>\n",
              "      <td>NaN</td>\n",
              "      <td>NO PAYMENT APPLIED</td>\n",
              "      <td>NaN</td>\n",
              "      <td>NaN</td>\n",
              "      <td>non-compliant by no payment</td>\n",
              "      <td>0.0</td>\n",
              "      <td>2900 tyler, Detroit MI</td>\n",
              "      <td>42.390729</td>\n",
              "      <td>-83.124268</td>\n",
              "    </tr>\n",
              "    <tr>\n",
              "      <th>2</th>\n",
              "      <td>77243</td>\n",
              "      <td>Buildings, Safety Engineering &amp; Env Department</td>\n",
              "      <td>Sims, Martinzie</td>\n",
              "      <td>MORTGAGE CO., MIDWEST</td>\n",
              "      <td>2900.0</td>\n",
              "      <td>TYLER</td>\n",
              "      <td>NaN</td>\n",
              "      <td>3.0</td>\n",
              "      <td>S. WACKER</td>\n",
              "      <td>CHICAGO</td>\n",
              "      <td>IL</td>\n",
              "      <td>60606</td>\n",
              "      <td>NaN</td>\n",
              "      <td>USA</td>\n",
              "      <td>2006-05-24 09:00:00</td>\n",
              "      <td>2006-06-27 15:00:00</td>\n",
              "      <td>9-1-81(a)</td>\n",
              "      <td>Failure to obtain certificate of registration ...</td>\n",
              "      <td>Responsible by Default</td>\n",
              "      <td>250.0</td>\n",
              "      <td>20.0</td>\n",
              "      <td>10.0</td>\n",
              "      <td>25.0</td>\n",
              "      <td>0.0</td>\n",
              "      <td>0.0</td>\n",
              "      <td>305.0</td>\n",
              "      <td>0.0</td>\n",
              "      <td>305.0</td>\n",
              "      <td>NaN</td>\n",
              "      <td>NO PAYMENT APPLIED</td>\n",
              "      <td>NaN</td>\n",
              "      <td>NaN</td>\n",
              "      <td>non-compliant by no payment</td>\n",
              "      <td>0.0</td>\n",
              "      <td>2900 tyler, Detroit MI</td>\n",
              "      <td>42.390729</td>\n",
              "      <td>-83.124268</td>\n",
              "    </tr>\n",
              "    <tr>\n",
              "      <th>4</th>\n",
              "      <td>138219</td>\n",
              "      <td>Department of Public Works</td>\n",
              "      <td>Talbert, Reginald</td>\n",
              "      <td>INVESTMENT INC, MIDWEST MORTGAGE</td>\n",
              "      <td>2900.0</td>\n",
              "      <td>TYLER</td>\n",
              "      <td>NaN</td>\n",
              "      <td>3.0</td>\n",
              "      <td>S WACKER #1418</td>\n",
              "      <td>CHICAGO</td>\n",
              "      <td>IL</td>\n",
              "      <td>60606</td>\n",
              "      <td>NaN</td>\n",
              "      <td>USA</td>\n",
              "      <td>2007-09-21 14:45:00</td>\n",
              "      <td>2008-02-05 10:30:00</td>\n",
              "      <td>9-1-105</td>\n",
              "      <td>Rodent harborage one-or two-family dwelling or...</td>\n",
              "      <td>Responsible by Default</td>\n",
              "      <td>100.0</td>\n",
              "      <td>20.0</td>\n",
              "      <td>10.0</td>\n",
              "      <td>10.0</td>\n",
              "      <td>0.0</td>\n",
              "      <td>0.0</td>\n",
              "      <td>140.0</td>\n",
              "      <td>0.0</td>\n",
              "      <td>140.0</td>\n",
              "      <td>NaN</td>\n",
              "      <td>NO PAYMENT APPLIED</td>\n",
              "      <td>NaN</td>\n",
              "      <td>NaN</td>\n",
              "      <td>non-compliant by no payment</td>\n",
              "      <td>0.0</td>\n",
              "      <td>2900 tyler, Detroit MI</td>\n",
              "      <td>42.390729</td>\n",
              "      <td>-83.124268</td>\n",
              "    </tr>\n",
              "    <tr>\n",
              "      <th>5</th>\n",
              "      <td>177558</td>\n",
              "      <td>Buildings, Safety Engineering &amp; Env Department</td>\n",
              "      <td>Morris, John</td>\n",
              "      <td>INVESTMENT, MIDWEST MORTGAGE</td>\n",
              "      <td>2900.0</td>\n",
              "      <td>TYLER</td>\n",
              "      <td>NaN</td>\n",
              "      <td>3.0</td>\n",
              "      <td>S. WACKER</td>\n",
              "      <td>CHICAGO</td>\n",
              "      <td>IL</td>\n",
              "      <td>60606</td>\n",
              "      <td>NaN</td>\n",
              "      <td>USA</td>\n",
              "      <td>2008-06-13 10:00:00</td>\n",
              "      <td>2008-09-03 09:00:00</td>\n",
              "      <td>19450901</td>\n",
              "      <td>Failure of owner to comply with an emergency o...</td>\n",
              "      <td>Responsible by Default</td>\n",
              "      <td>300.0</td>\n",
              "      <td>20.0</td>\n",
              "      <td>10.0</td>\n",
              "      <td>30.0</td>\n",
              "      <td>0.0</td>\n",
              "      <td>0.0</td>\n",
              "      <td>360.0</td>\n",
              "      <td>0.0</td>\n",
              "      <td>360.0</td>\n",
              "      <td>NaN</td>\n",
              "      <td>NO PAYMENT APPLIED</td>\n",
              "      <td>NaN</td>\n",
              "      <td>NaN</td>\n",
              "      <td>non-compliant by no payment</td>\n",
              "      <td>0.0</td>\n",
              "      <td>2900 tyler, Detroit MI</td>\n",
              "      <td>42.390729</td>\n",
              "      <td>-83.124268</td>\n",
              "    </tr>\n",
              "  </tbody>\n",
              "</table>\n",
              "</div>"
            ],
            "text/plain": [
              "   ticket_id  ...        lon\n",
              "0      22056  ... -83.124268\n",
              "1      77242  ... -83.124268\n",
              "2      77243  ... -83.124268\n",
              "4     138219  ... -83.124268\n",
              "5     177558  ... -83.124268\n",
              "\n",
              "[5 rows x 37 columns]"
            ]
          },
          "metadata": {
            "tags": []
          },
          "execution_count": 23
        }
      ]
    },
    {
      "cell_type": "code",
      "metadata": {
        "id": "yoTDfCidJbNm",
        "colab_type": "code",
        "colab": {
          "base_uri": "https://localhost:8080/",
          "height": 384
        },
        "outputId": "3dd95bc1-92a4-4efb-9241-17bf09e0cd48"
      },
      "source": [
        "test_df.head()"
      ],
      "execution_count": null,
      "outputs": [
        {
          "output_type": "execute_result",
          "data": {
            "text/html": [
              "<div>\n",
              "<style scoped>\n",
              "    .dataframe tbody tr th:only-of-type {\n",
              "        vertical-align: middle;\n",
              "    }\n",
              "\n",
              "    .dataframe tbody tr th {\n",
              "        vertical-align: top;\n",
              "    }\n",
              "\n",
              "    .dataframe thead th {\n",
              "        text-align: right;\n",
              "    }\n",
              "</style>\n",
              "<table border=\"1\" class=\"dataframe\">\n",
              "  <thead>\n",
              "    <tr style=\"text-align: right;\">\n",
              "      <th></th>\n",
              "      <th>ticket_id</th>\n",
              "      <th>agency_name</th>\n",
              "      <th>inspector_name</th>\n",
              "      <th>violator_name</th>\n",
              "      <th>violation_street_number</th>\n",
              "      <th>violation_street_name</th>\n",
              "      <th>violation_zip_code</th>\n",
              "      <th>mailing_address_str_number</th>\n",
              "      <th>mailing_address_str_name</th>\n",
              "      <th>city</th>\n",
              "      <th>state</th>\n",
              "      <th>zip_code</th>\n",
              "      <th>non_us_str_code</th>\n",
              "      <th>country</th>\n",
              "      <th>ticket_issued_date</th>\n",
              "      <th>hearing_date</th>\n",
              "      <th>violation_code</th>\n",
              "      <th>violation_description</th>\n",
              "      <th>disposition</th>\n",
              "      <th>fine_amount</th>\n",
              "      <th>admin_fee</th>\n",
              "      <th>state_fee</th>\n",
              "      <th>late_fee</th>\n",
              "      <th>discount_amount</th>\n",
              "      <th>clean_up_cost</th>\n",
              "      <th>judgment_amount</th>\n",
              "      <th>grafitti_status</th>\n",
              "    </tr>\n",
              "  </thead>\n",
              "  <tbody>\n",
              "    <tr>\n",
              "      <th>0</th>\n",
              "      <td>284932</td>\n",
              "      <td>Department of Public Works</td>\n",
              "      <td>Granberry, Aisha B</td>\n",
              "      <td>FLUELLEN, JOHN A</td>\n",
              "      <td>10041.0</td>\n",
              "      <td>ROSEBERRY</td>\n",
              "      <td>NaN</td>\n",
              "      <td>141</td>\n",
              "      <td>ROSEBERRY</td>\n",
              "      <td>DETROIT</td>\n",
              "      <td>MI</td>\n",
              "      <td>48213</td>\n",
              "      <td>NaN</td>\n",
              "      <td>USA</td>\n",
              "      <td>2012-01-04 14:00:00</td>\n",
              "      <td>2012-01-19 09:00:00</td>\n",
              "      <td>22-2-61</td>\n",
              "      <td>Failure to secure City or Private solid waste ...</td>\n",
              "      <td>Responsible by Default</td>\n",
              "      <td>200.0</td>\n",
              "      <td>20.0</td>\n",
              "      <td>10.0</td>\n",
              "      <td>20.0</td>\n",
              "      <td>0.0</td>\n",
              "      <td>0.0</td>\n",
              "      <td>250.0</td>\n",
              "      <td>NaN</td>\n",
              "    </tr>\n",
              "    <tr>\n",
              "      <th>1</th>\n",
              "      <td>285362</td>\n",
              "      <td>Department of Public Works</td>\n",
              "      <td>Lusk, Gertrina</td>\n",
              "      <td>WHIGHAM, THELMA</td>\n",
              "      <td>18520.0</td>\n",
              "      <td>EVERGREEN</td>\n",
              "      <td>NaN</td>\n",
              "      <td>19136</td>\n",
              "      <td>GLASTONBURY</td>\n",
              "      <td>DETROIT</td>\n",
              "      <td>MI</td>\n",
              "      <td>48219</td>\n",
              "      <td>NaN</td>\n",
              "      <td>USA</td>\n",
              "      <td>2012-01-05 09:50:00</td>\n",
              "      <td>2012-02-06 09:00:00</td>\n",
              "      <td>22-2-88(b)</td>\n",
              "      <td>Allowing bulk solid waste to lie or accumulate...</td>\n",
              "      <td>Responsible by Default</td>\n",
              "      <td>1000.0</td>\n",
              "      <td>20.0</td>\n",
              "      <td>10.0</td>\n",
              "      <td>100.0</td>\n",
              "      <td>0.0</td>\n",
              "      <td>0.0</td>\n",
              "      <td>1130.0</td>\n",
              "      <td>NaN</td>\n",
              "    </tr>\n",
              "    <tr>\n",
              "      <th>2</th>\n",
              "      <td>285361</td>\n",
              "      <td>Department of Public Works</td>\n",
              "      <td>Lusk, Gertrina</td>\n",
              "      <td>WHIGHAM, THELMA</td>\n",
              "      <td>18520.0</td>\n",
              "      <td>EVERGREEN</td>\n",
              "      <td>NaN</td>\n",
              "      <td>19136</td>\n",
              "      <td>GLASTONBURY</td>\n",
              "      <td>DETROIT</td>\n",
              "      <td>MI</td>\n",
              "      <td>48219</td>\n",
              "      <td>NaN</td>\n",
              "      <td>USA</td>\n",
              "      <td>2012-01-05 09:50:00</td>\n",
              "      <td>2012-02-06 09:00:00</td>\n",
              "      <td>22-2-43</td>\n",
              "      <td>Improper placement of Courville container betw...</td>\n",
              "      <td>Responsible by Default</td>\n",
              "      <td>100.0</td>\n",
              "      <td>20.0</td>\n",
              "      <td>10.0</td>\n",
              "      <td>10.0</td>\n",
              "      <td>0.0</td>\n",
              "      <td>0.0</td>\n",
              "      <td>140.0</td>\n",
              "      <td>NaN</td>\n",
              "    </tr>\n",
              "    <tr>\n",
              "      <th>3</th>\n",
              "      <td>285338</td>\n",
              "      <td>Department of Public Works</td>\n",
              "      <td>Talbert, Reginald</td>\n",
              "      <td>HARABEDIEN, POPKIN</td>\n",
              "      <td>1835.0</td>\n",
              "      <td>CENTRAL</td>\n",
              "      <td>NaN</td>\n",
              "      <td>2246</td>\n",
              "      <td>NELSON</td>\n",
              "      <td>WOODHAVEN</td>\n",
              "      <td>MI</td>\n",
              "      <td>48183</td>\n",
              "      <td>NaN</td>\n",
              "      <td>USA</td>\n",
              "      <td>2012-01-05 10:25:00</td>\n",
              "      <td>2012-02-07 09:00:00</td>\n",
              "      <td>22-2-88(b)</td>\n",
              "      <td>Allowing bulk solid waste to lie or accumulate...</td>\n",
              "      <td>Responsible by Default</td>\n",
              "      <td>200.0</td>\n",
              "      <td>20.0</td>\n",
              "      <td>10.0</td>\n",
              "      <td>20.0</td>\n",
              "      <td>0.0</td>\n",
              "      <td>0.0</td>\n",
              "      <td>250.0</td>\n",
              "      <td>NaN</td>\n",
              "    </tr>\n",
              "    <tr>\n",
              "      <th>4</th>\n",
              "      <td>285346</td>\n",
              "      <td>Department of Public Works</td>\n",
              "      <td>Talbert, Reginald</td>\n",
              "      <td>CORBELL, STANLEY</td>\n",
              "      <td>1700.0</td>\n",
              "      <td>CENTRAL</td>\n",
              "      <td>NaN</td>\n",
              "      <td>3435</td>\n",
              "      <td>MUNGER</td>\n",
              "      <td>LIVONIA</td>\n",
              "      <td>MI</td>\n",
              "      <td>48154</td>\n",
              "      <td>NaN</td>\n",
              "      <td>USA</td>\n",
              "      <td>2012-01-05 10:20:00</td>\n",
              "      <td>2012-02-14 09:00:00</td>\n",
              "      <td>22-2-45</td>\n",
              "      <td>Violation of time limit for approved container...</td>\n",
              "      <td>Responsible by Default</td>\n",
              "      <td>100.0</td>\n",
              "      <td>20.0</td>\n",
              "      <td>10.0</td>\n",
              "      <td>10.0</td>\n",
              "      <td>0.0</td>\n",
              "      <td>0.0</td>\n",
              "      <td>140.0</td>\n",
              "      <td>NaN</td>\n",
              "    </tr>\n",
              "  </tbody>\n",
              "</table>\n",
              "</div>"
            ],
            "text/plain": [
              "   ticket_id                 agency_name  ... judgment_amount grafitti_status\n",
              "0     284932  Department of Public Works  ...           250.0             NaN\n",
              "1     285362  Department of Public Works  ...          1130.0             NaN\n",
              "2     285361  Department of Public Works  ...           140.0             NaN\n",
              "3     285338  Department of Public Works  ...           250.0             NaN\n",
              "4     285346  Department of Public Works  ...           140.0             NaN\n",
              "\n",
              "[5 rows x 27 columns]"
            ]
          },
          "metadata": {
            "tags": []
          },
          "execution_count": 132
        }
      ]
    },
    {
      "cell_type": "code",
      "metadata": {
        "id": "feREAY10Jgi9",
        "colab_type": "code",
        "colab": {
          "base_uri": "https://localhost:8080/",
          "height": 203
        },
        "outputId": "1d9cc4ce-8dc5-4691-badf-411d65e3d876"
      },
      "source": [
        "address.head()"
      ],
      "execution_count": null,
      "outputs": [
        {
          "output_type": "execute_result",
          "data": {
            "text/html": [
              "<div>\n",
              "<style scoped>\n",
              "    .dataframe tbody tr th:only-of-type {\n",
              "        vertical-align: middle;\n",
              "    }\n",
              "\n",
              "    .dataframe tbody tr th {\n",
              "        vertical-align: top;\n",
              "    }\n",
              "\n",
              "    .dataframe thead th {\n",
              "        text-align: right;\n",
              "    }\n",
              "</style>\n",
              "<table border=\"1\" class=\"dataframe\">\n",
              "  <thead>\n",
              "    <tr style=\"text-align: right;\">\n",
              "      <th></th>\n",
              "      <th>ticket_id</th>\n",
              "      <th>address</th>\n",
              "    </tr>\n",
              "  </thead>\n",
              "  <tbody>\n",
              "    <tr>\n",
              "      <th>0</th>\n",
              "      <td>22056</td>\n",
              "      <td>2900 tyler, Detroit MI</td>\n",
              "    </tr>\n",
              "    <tr>\n",
              "      <th>1</th>\n",
              "      <td>27586</td>\n",
              "      <td>4311 central, Detroit MI</td>\n",
              "    </tr>\n",
              "    <tr>\n",
              "      <th>2</th>\n",
              "      <td>22062</td>\n",
              "      <td>1449 longfellow, Detroit MI</td>\n",
              "    </tr>\n",
              "    <tr>\n",
              "      <th>3</th>\n",
              "      <td>22084</td>\n",
              "      <td>1441 longfellow, Detroit MI</td>\n",
              "    </tr>\n",
              "    <tr>\n",
              "      <th>4</th>\n",
              "      <td>22093</td>\n",
              "      <td>2449 churchill, Detroit MI</td>\n",
              "    </tr>\n",
              "  </tbody>\n",
              "</table>\n",
              "</div>"
            ],
            "text/plain": [
              "   ticket_id                      address\n",
              "0      22056       2900 tyler, Detroit MI\n",
              "1      27586     4311 central, Detroit MI\n",
              "2      22062  1449 longfellow, Detroit MI\n",
              "3      22084  1441 longfellow, Detroit MI\n",
              "4      22093   2449 churchill, Detroit MI"
            ]
          },
          "metadata": {
            "tags": []
          },
          "execution_count": 26
        }
      ]
    },
    {
      "cell_type": "code",
      "metadata": {
        "id": "nU0AAiW_JkHj",
        "colab_type": "code",
        "colab": {
          "base_uri": "https://localhost:8080/",
          "height": 203
        },
        "outputId": "d92a6e03-6e74-4641-ade1-e954254b7593"
      },
      "source": [
        "latlon.head()"
      ],
      "execution_count": null,
      "outputs": [
        {
          "output_type": "execute_result",
          "data": {
            "text/html": [
              "<div>\n",
              "<style scoped>\n",
              "    .dataframe tbody tr th:only-of-type {\n",
              "        vertical-align: middle;\n",
              "    }\n",
              "\n",
              "    .dataframe tbody tr th {\n",
              "        vertical-align: top;\n",
              "    }\n",
              "\n",
              "    .dataframe thead th {\n",
              "        text-align: right;\n",
              "    }\n",
              "</style>\n",
              "<table border=\"1\" class=\"dataframe\">\n",
              "  <thead>\n",
              "    <tr style=\"text-align: right;\">\n",
              "      <th></th>\n",
              "      <th>address</th>\n",
              "      <th>lat</th>\n",
              "      <th>lon</th>\n",
              "    </tr>\n",
              "  </thead>\n",
              "  <tbody>\n",
              "    <tr>\n",
              "      <th>0</th>\n",
              "      <td>4300 rosa parks blvd, Detroit MI 48208</td>\n",
              "      <td>42.346169</td>\n",
              "      <td>-83.079962</td>\n",
              "    </tr>\n",
              "    <tr>\n",
              "      <th>1</th>\n",
              "      <td>14512 sussex, Detroit MI</td>\n",
              "      <td>42.394657</td>\n",
              "      <td>-83.194265</td>\n",
              "    </tr>\n",
              "    <tr>\n",
              "      <th>2</th>\n",
              "      <td>3456 garland, Detroit MI</td>\n",
              "      <td>42.373779</td>\n",
              "      <td>-82.986228</td>\n",
              "    </tr>\n",
              "    <tr>\n",
              "      <th>3</th>\n",
              "      <td>5787 wayburn, Detroit MI</td>\n",
              "      <td>42.403342</td>\n",
              "      <td>-82.957805</td>\n",
              "    </tr>\n",
              "    <tr>\n",
              "      <th>4</th>\n",
              "      <td>5766 haverhill, Detroit MI</td>\n",
              "      <td>42.407255</td>\n",
              "      <td>-82.946295</td>\n",
              "    </tr>\n",
              "  </tbody>\n",
              "</table>\n",
              "</div>"
            ],
            "text/plain": [
              "                                  address        lat        lon\n",
              "0  4300 rosa parks blvd, Detroit MI 48208  42.346169 -83.079962\n",
              "1                14512 sussex, Detroit MI  42.394657 -83.194265\n",
              "2                3456 garland, Detroit MI  42.373779 -82.986228\n",
              "3                5787 wayburn, Detroit MI  42.403342 -82.957805\n",
              "4              5766 haverhill, Detroit MI  42.407255 -82.946295"
            ]
          },
          "metadata": {
            "tags": []
          },
          "execution_count": 28
        }
      ]
    },
    {
      "cell_type": "code",
      "metadata": {
        "id": "qmj6Gv8SD1ur",
        "colab_type": "code",
        "colab": {
          "base_uri": "https://localhost:8080/",
          "height": 513
        },
        "outputId": "92348976-e18b-4d61-836e-d513c90b827b"
      },
      "source": [
        "df.head()"
      ],
      "execution_count": null,
      "outputs": [
        {
          "output_type": "execute_result",
          "data": {
            "text/html": [
              "<div>\n",
              "<style scoped>\n",
              "    .dataframe tbody tr th:only-of-type {\n",
              "        vertical-align: middle;\n",
              "    }\n",
              "\n",
              "    .dataframe tbody tr th {\n",
              "        vertical-align: top;\n",
              "    }\n",
              "\n",
              "    .dataframe thead th {\n",
              "        text-align: right;\n",
              "    }\n",
              "</style>\n",
              "<table border=\"1\" class=\"dataframe\">\n",
              "  <thead>\n",
              "    <tr style=\"text-align: right;\">\n",
              "      <th></th>\n",
              "      <th>agency_name</th>\n",
              "      <th>inspector_name</th>\n",
              "      <th>violation_code</th>\n",
              "      <th>disposition</th>\n",
              "      <th>admin_fee</th>\n",
              "      <th>state_fee</th>\n",
              "      <th>discount_amount</th>\n",
              "      <th>grafitti_status</th>\n",
              "      <th>lat</th>\n",
              "      <th>lon</th>\n",
              "      <th>judge-fine-late_Amount</th>\n",
              "    </tr>\n",
              "  </thead>\n",
              "  <tbody>\n",
              "    <tr>\n",
              "      <th>199161</th>\n",
              "      <td>Buildings, Safety Engineering &amp; Env Department</td>\n",
              "      <td>Morris, John</td>\n",
              "      <td>9-1-83 - (Dwelling)</td>\n",
              "      <td>Responsible by Default</td>\n",
              "      <td>20.0</td>\n",
              "      <td>10.0</td>\n",
              "      <td>0.0</td>\n",
              "      <td>0</td>\n",
              "      <td>42.375211</td>\n",
              "      <td>-83.100609</td>\n",
              "      <td>1130.0</td>\n",
              "    </tr>\n",
              "    <tr>\n",
              "      <th>177662</th>\n",
              "      <td>Department of Public Works</td>\n",
              "      <td>Hayes, Billy J</td>\n",
              "      <td>9-1-110(a)</td>\n",
              "      <td>Responsible by Default</td>\n",
              "      <td>20.0</td>\n",
              "      <td>10.0</td>\n",
              "      <td>0.0</td>\n",
              "      <td>0</td>\n",
              "      <td>42.395354</td>\n",
              "      <td>-83.205689</td>\n",
              "      <td>140.0</td>\n",
              "    </tr>\n",
              "    <tr>\n",
              "      <th>244868</th>\n",
              "      <td>Department of Public Works</td>\n",
              "      <td>Havard, Jacqueline</td>\n",
              "      <td>9-1-103(C)</td>\n",
              "      <td>Responsible by Default</td>\n",
              "      <td>20.0</td>\n",
              "      <td>10.0</td>\n",
              "      <td>0.0</td>\n",
              "      <td>0</td>\n",
              "      <td>42.380240</td>\n",
              "      <td>-82.999898</td>\n",
              "      <td>250.0</td>\n",
              "    </tr>\n",
              "    <tr>\n",
              "      <th>49254</th>\n",
              "      <td>Buildings, Safety Engineering &amp; Env Department</td>\n",
              "      <td>Sharpe, Anthony</td>\n",
              "      <td>9-1-36(a)</td>\n",
              "      <td>Responsible by Determination</td>\n",
              "      <td>20.0</td>\n",
              "      <td>10.0</td>\n",
              "      <td>0.0</td>\n",
              "      <td>0</td>\n",
              "      <td>42.323608</td>\n",
              "      <td>-83.077211</td>\n",
              "      <td>580.0</td>\n",
              "    </tr>\n",
              "    <tr>\n",
              "      <th>5783</th>\n",
              "      <td>Buildings, Safety Engineering &amp; Env Department</td>\n",
              "      <td>DeRamer, Andrew</td>\n",
              "      <td>9-1-36(a)</td>\n",
              "      <td>Responsible by Default</td>\n",
              "      <td>20.0</td>\n",
              "      <td>10.0</td>\n",
              "      <td>0.0</td>\n",
              "      <td>0</td>\n",
              "      <td>42.415323</td>\n",
              "      <td>-82.936357</td>\n",
              "      <td>580.0</td>\n",
              "    </tr>\n",
              "  </tbody>\n",
              "</table>\n",
              "</div>"
            ],
            "text/plain": [
              "                                           agency_name  ... judge-fine-late_Amount\n",
              "199161  Buildings, Safety Engineering & Env Department  ...                 1130.0\n",
              "177662                      Department of Public Works  ...                  140.0\n",
              "244868                      Department of Public Works  ...                  250.0\n",
              "49254   Buildings, Safety Engineering & Env Department  ...                  580.0\n",
              "5783    Buildings, Safety Engineering & Env Department  ...                  580.0\n",
              "\n",
              "[5 rows x 11 columns]"
            ]
          },
          "metadata": {
            "tags": []
          },
          "execution_count": 29
        }
      ]
    },
    {
      "cell_type": "markdown",
      "metadata": {
        "id": "cFWwnGiUKXHk",
        "colab_type": "text"
      },
      "source": [
        "# Merge DataFrames"
      ]
    },
    {
      "cell_type": "code",
      "metadata": {
        "id": "cj-jxl3RKaAI",
        "colab_type": "code",
        "colab": {}
      },
      "source": [
        "df_address=pd.merge(df,address,on='ticket_id')\n",
        "df=pd.merge(df_address,latlon,on='address')\n",
        "df_test_address=pd.merge(test_df,address,on='ticket_id')\n",
        "test_df=pd.merge(df_test_address,latlon,on='address')"
      ],
      "execution_count": null,
      "outputs": []
    },
    {
      "cell_type": "markdown",
      "metadata": {
        "id": "wmO-uFvAKdLr",
        "colab_type": "text"
      },
      "source": [
        "# Data Cleansing"
      ]
    },
    {
      "cell_type": "code",
      "metadata": {
        "id": "t5ClesAALElh",
        "colab_type": "code",
        "colab": {
          "base_uri": "https://localhost:8080/",
          "height": 674
        },
        "outputId": "63b9d4cb-f52e-4651-ea1c-1ff037b780ee"
      },
      "source": [
        "for col in df:\n",
        "    cols=df[col].unique()\n",
        "    print(col,len(cols))\n",
        "\n",
        "\n",
        "\n",
        "#Change str type features to catogry\n",
        "\n",
        "category_cols=['agency_name','inspector_name','disposition','grafitti_status','country','state','violation_code']\n",
        "for col in category_cols :\n",
        "              df[col]=df[col].astype('category')\n",
        "\n",
        "#With looking at number of unique values in each field, I decided to use just these features:\n",
        "X_cols=[\n",
        " 'agency_name',\n",
        " 'inspector_name',\n",
        " 'violation_code',\n",
        " 'country',\n",
        " 'state',\n",
        " 'disposition',\n",
        " 'fine_amount',\n",
        " 'admin_fee',\n",
        " 'state_fee',\n",
        " 'late_fee',\n",
        " 'discount_amount',\n",
        " 'judgment_amount',\n",
        " 'grafitti_status'\n",
        " ,'lat'\n",
        " ,'lon']\n",
        "\n",
        "df=df.dropna(subset=['compliance'])\n",
        "X=df[X_cols]\n",
        "y=df['compliance']"
      ],
      "execution_count": null,
      "outputs": [
        {
          "output_type": "stream",
          "text": [
            "ticket_id 250306\n",
            "agency_name 5\n",
            "inspector_name 173\n",
            "violator_name 119993\n",
            "violation_street_number 19175\n",
            "violation_street_name 1791\n",
            "violation_zip_code 1\n",
            "mailing_address_str_number 15827\n",
            "mailing_address_str_name 37897\n",
            "city 5184\n",
            "state 60\n",
            "zip_code 4252\n",
            "non_us_str_code 3\n",
            "country 5\n",
            "ticket_issued_date 86979\n",
            "hearing_date 6223\n",
            "violation_code 235\n",
            "violation_description 258\n",
            "disposition 9\n",
            "fine_amount 44\n",
            "admin_fee 2\n",
            "state_fee 2\n",
            "late_fee 37\n",
            "discount_amount 13\n",
            "clean_up_cost 1\n",
            "judgment_amount 57\n",
            "payment_amount 533\n",
            "balance_due 606\n",
            "payment_date 2308\n",
            "payment_status 3\n",
            "collection_status 2\n",
            "grafitti_status 2\n",
            "compliance_detail 10\n",
            "compliance 3\n",
            "address 95598\n",
            "lat 78695\n",
            "lon 87250\n"
          ],
          "name": "stdout"
        }
      ]
    },
    {
      "cell_type": "code",
      "metadata": {
        "id": "uuTDQdl0NlEr",
        "colab_type": "code",
        "colab": {
          "base_uri": "https://localhost:8080/",
          "height": 230
        },
        "outputId": "b04f13b7-e38e-4bd8-df71-1e240862fc65"
      },
      "source": [
        "#Correlation between features\n",
        "X_train, X_test, y_train, y_test=train_test_split(X,y,random_state=0)\n",
        "\n",
        "corr=X_train.corr()\n",
        "corr=corr.abs()\n",
        "corr_un=corr.unstack()\n",
        "corr_series=corr_un.sort_values(kind='quicksort',ascending=False)\n",
        "\n",
        "for index, value in corr_series.items():\n",
        "  if((value>0.8) & (value<1)):\n",
        "    print(index,value)\n",
        "\n",
        "#After correlation has been made I decided to delete these columns:\n",
        "\n",
        "deleted_cols=['judgment_amount','fine_amount','late_fee']\n",
        "X['judge-fine-late_Amount']=X['judgment_amount']+X['fine_amount']+X['late_fee']\n",
        "X = X.drop(deleted_cols, axis=1)\n",
        "\n",
        "#For category type features:\n",
        "\n",
        "#NA Values:\n",
        "X=X.fillna(method='ffill')\n",
        "\n",
        "\n",
        "#X=pd.get_dummies(X)\n",
        "for col in category_cols:\n",
        "  X[col]=LabelEncoder().fit_transform(X[col])\n",
        "\n",
        "\n",
        "#Scaling features\n",
        "X_train, X_test, y_train, y_test=train_test_split(X,y,random_state=0)\n",
        "scaler=MinMaxScaler()\n",
        "X_train=scaler.fit_transform(X_train)\n",
        "X_test=scaler.transform(X_test)"
      ],
      "execution_count": null,
      "outputs": [
        {
          "output_type": "stream",
          "text": [
            "('fine_amount', 'judgment_amount') 0.9998932709100479\n",
            "('judgment_amount', 'fine_amount') 0.9998932709100479\n",
            "('judgment_amount', 'late_fee') 0.989401570490141\n",
            "('late_fee', 'judgment_amount') 0.989401570490141\n",
            "('late_fee', 'fine_amount') 0.9871866411848839\n",
            "('fine_amount', 'late_fee') 0.9871866411848839\n"
          ],
          "name": "stdout"
        },
        {
          "output_type": "stream",
          "text": [
            "/usr/local/lib/python3.6/dist-packages/ipykernel_launcher.py:16: SettingWithCopyWarning: \n",
            "A value is trying to be set on a copy of a slice from a DataFrame.\n",
            "Try using .loc[row_indexer,col_indexer] = value instead\n",
            "\n",
            "See the caveats in the documentation: https://pandas.pydata.org/pandas-docs/stable/user_guide/indexing.html#returning-a-view-versus-a-copy\n",
            "  app.launch_new_instance()\n"
          ],
          "name": "stderr"
        }
      ]
    },
    {
      "cell_type": "code",
      "metadata": {
        "id": "APoIRdKuUWv1",
        "colab_type": "code",
        "colab": {
          "base_uri": "https://localhost:8080/",
          "height": 197
        },
        "outputId": "8f4451e7-da6b-4a70-a461-6a1f1cd242c4"
      },
      "source": [
        "X.head()"
      ],
      "execution_count": null,
      "outputs": [
        {
          "output_type": "execute_result",
          "data": {
            "text/html": [
              "<div>\n",
              "<style scoped>\n",
              "    .dataframe tbody tr th:only-of-type {\n",
              "        vertical-align: middle;\n",
              "    }\n",
              "\n",
              "    .dataframe tbody tr th {\n",
              "        vertical-align: top;\n",
              "    }\n",
              "\n",
              "    .dataframe thead th {\n",
              "        text-align: right;\n",
              "    }\n",
              "</style>\n",
              "<table border=\"1\" class=\"dataframe\">\n",
              "  <thead>\n",
              "    <tr style=\"text-align: right;\">\n",
              "      <th></th>\n",
              "      <th>agency_name</th>\n",
              "      <th>inspector_name</th>\n",
              "      <th>violation_code</th>\n",
              "      <th>country</th>\n",
              "      <th>state</th>\n",
              "      <th>disposition</th>\n",
              "      <th>admin_fee</th>\n",
              "      <th>state_fee</th>\n",
              "      <th>discount_amount</th>\n",
              "      <th>grafitti_status</th>\n",
              "      <th>lat</th>\n",
              "      <th>lon</th>\n",
              "      <th>judge-fine-late_Amount</th>\n",
              "    </tr>\n",
              "  </thead>\n",
              "  <tbody>\n",
              "    <tr>\n",
              "      <th>0</th>\n",
              "      <td>0</td>\n",
              "      <td>125</td>\n",
              "      <td>143</td>\n",
              "      <td>4</td>\n",
              "      <td>16</td>\n",
              "      <td>2</td>\n",
              "      <td>20.0</td>\n",
              "      <td>10.0</td>\n",
              "      <td>0.0</td>\n",
              "      <td>0</td>\n",
              "      <td>42.390729</td>\n",
              "      <td>-83.124268</td>\n",
              "      <td>580.0</td>\n",
              "    </tr>\n",
              "    <tr>\n",
              "      <th>1</th>\n",
              "      <td>0</td>\n",
              "      <td>125</td>\n",
              "      <td>143</td>\n",
              "      <td>4</td>\n",
              "      <td>16</td>\n",
              "      <td>2</td>\n",
              "      <td>20.0</td>\n",
              "      <td>10.0</td>\n",
              "      <td>0.0</td>\n",
              "      <td>0</td>\n",
              "      <td>42.390729</td>\n",
              "      <td>-83.124268</td>\n",
              "      <td>1130.0</td>\n",
              "    </tr>\n",
              "    <tr>\n",
              "      <th>2</th>\n",
              "      <td>0</td>\n",
              "      <td>125</td>\n",
              "      <td>179</td>\n",
              "      <td>4</td>\n",
              "      <td>16</td>\n",
              "      <td>2</td>\n",
              "      <td>20.0</td>\n",
              "      <td>10.0</td>\n",
              "      <td>0.0</td>\n",
              "      <td>0</td>\n",
              "      <td>42.390729</td>\n",
              "      <td>-83.124268</td>\n",
              "      <td>580.0</td>\n",
              "    </tr>\n",
              "    <tr>\n",
              "      <th>3</th>\n",
              "      <td>1</td>\n",
              "      <td>138</td>\n",
              "      <td>96</td>\n",
              "      <td>4</td>\n",
              "      <td>16</td>\n",
              "      <td>2</td>\n",
              "      <td>20.0</td>\n",
              "      <td>10.0</td>\n",
              "      <td>0.0</td>\n",
              "      <td>0</td>\n",
              "      <td>42.390729</td>\n",
              "      <td>-83.124268</td>\n",
              "      <td>250.0</td>\n",
              "    </tr>\n",
              "    <tr>\n",
              "      <th>4</th>\n",
              "      <td>0</td>\n",
              "      <td>93</td>\n",
              "      <td>1</td>\n",
              "      <td>4</td>\n",
              "      <td>16</td>\n",
              "      <td>2</td>\n",
              "      <td>20.0</td>\n",
              "      <td>10.0</td>\n",
              "      <td>0.0</td>\n",
              "      <td>0</td>\n",
              "      <td>42.390729</td>\n",
              "      <td>-83.124268</td>\n",
              "      <td>690.0</td>\n",
              "    </tr>\n",
              "  </tbody>\n",
              "</table>\n",
              "</div>"
            ],
            "text/plain": [
              "   agency_name  inspector_name  ...        lon  judge-fine-late_Amount\n",
              "0            0             125  ... -83.124268                   580.0\n",
              "1            0             125  ... -83.124268                  1130.0\n",
              "2            0             125  ... -83.124268                   580.0\n",
              "3            1             138  ... -83.124268                   250.0\n",
              "4            0              93  ... -83.124268                   690.0\n",
              "\n",
              "[5 rows x 13 columns]"
            ]
          },
          "metadata": {
            "tags": []
          },
          "execution_count": 52
        }
      ]
    },
    {
      "cell_type": "markdown",
      "metadata": {
        "id": "7O92UWvfUWuj",
        "colab_type": "text"
      },
      "source": [
        "# Try Different Algorithms"
      ]
    },
    {
      "cell_type": "markdown",
      "metadata": {
        "id": "Zm3qHGbHVilB",
        "colab_type": "text"
      },
      "source": [
        "## Parameter Tuning"
      ]
    },
    {
      "cell_type": "code",
      "metadata": {
        "id": "GY0nosnFDQ1-",
        "colab_type": "code",
        "colab": {
          "base_uri": "https://localhost:8080/",
          "height": 300
        },
        "outputId": "c5906df9-0da0-4c97-a87b-483c8cd307d6"
      },
      "source": [
        "#For algorithms below, I used GridSearchCV to get the best hyperparameters\n",
        "#(Here I just show it for Lasso Logistic Regression):\n",
        "\n",
        "lc=LogisticRegression(penalty='l1', solver='liblinear')\n",
        "\n",
        "pipe=Pipeline(steps=[('scaler',scaler),('lc',lc)])\n",
        "\n",
        "param_grid={'lc__C':[1,10,100,1000,10000]}\n",
        "\n",
        "search=GridSearchCV(pipe,param_grid,scoring='roc_auc')\n",
        "search.fit(X,y)\n",
        "\n",
        "\n",
        "#print(\"Best parameter (CV score=%0.3f):\" % search.best_score_)\n",
        "#print(search.best_params_)\n",
        "\n",
        "\n",
        "plt_y=search.cv_results_['mean_test_score']\n",
        "#plt.plot(plt_y)\n",
        "#plt.show()"
      ],
      "execution_count": null,
      "outputs": [
        {
          "output_type": "stream",
          "text": [
            "Best parameter (CV score=0.633):\n",
            "{'lc__C': 1000}\n"
          ],
          "name": "stdout"
        },
        {
          "output_type": "display_data",
          "data": {
            "image/png": "[encoded data removed]",
            "text/plain": [
              "<Figure size 432x288 with 1 Axes>"
            ]
          },
          "metadata": {
            "tags": [],
            "needs_background": "light"
          }
        }
      ]
    },
    {
      "cell_type": "markdown",
      "metadata": {
        "id": "zsmVXFuGYrMn",
        "colab_type": "text"
      },
      "source": [
        "# Cross Validation For Each Algrithm"
      ]
    },
    {
      "cell_type": "markdown",
      "metadata": {
        "id": "VYAe_q3EY1Qv",
        "colab_type": "text"
      },
      "source": [
        "## Lasso Logistic Regression"
      ]
    },
    {
      "cell_type": "code",
      "metadata": {
        "id": "KEghNExTYeIC",
        "colab_type": "code",
        "colab": {
          "base_uri": "https://localhost:8080/",
          "height": 34
        },
        "outputId": "2f134c80-a427-41cd-a8c4-c5e1bf389274"
      },
      "source": [
        "Lasso_clf=LogisticRegression(penalty='l1', solver='liblinear',C=1000)\n",
        "Lasso_pipe=make_pipeline(scaler,Lasso_clf)\n",
        "Lasso_cv_score=cross_val_score(Lasso_pipe,X,y,scoring=\"roc_auc\")\n",
        "Lasso_cv_score.mean()"
      ],
      "execution_count": null,
      "outputs": [
        {
          "output_type": "execute_result",
          "data": {
            "text/plain": [
              "0.6334535248872685"
            ]
          },
          "metadata": {
            "tags": []
          },
          "execution_count": 72
        }
      ]
    },
    {
      "cell_type": "markdown",
      "metadata": {
        "id": "iv1GDdJiY9mD",
        "colab_type": "text"
      },
      "source": [
        "## Ridge Logistic Regression"
      ]
    },
    {
      "cell_type": "code",
      "metadata": {
        "id": "SvsgT4pJZDDJ",
        "colab_type": "code",
        "colab": {
          "base_uri": "https://localhost:8080/",
          "height": 34
        },
        "outputId": "5f5d64d7-9b5e-4e08-d855-8bc504ba03d2"
      },
      "source": [
        "Ridge_clf=LogisticRegression(penalty='l2', solver='liblinear',C=100)\n",
        "Ridge_pipe=make_pipeline(scaler,Ridge_clf)\n",
        "Ridge_cv_score=cross_val_score(Ridge_pipe,X,y,scoring=\"roc_auc\")\n",
        "Ridge_cv_score.mean()"
      ],
      "execution_count": null,
      "outputs": [
        {
          "output_type": "execute_result",
          "data": {
            "text/plain": [
              "0.633286553975634"
            ]
          },
          "metadata": {
            "tags": []
          },
          "execution_count": 76
        }
      ]
    },
    {
      "cell_type": "markdown",
      "metadata": {
        "id": "_ooITtJ8Zr7w",
        "colab_type": "text"
      },
      "source": [
        "## Naive Bayes"
      ]
    },
    {
      "cell_type": "code",
      "metadata": {
        "id": "DhAlMEUlZuw7",
        "colab_type": "code",
        "colab": {
          "base_uri": "https://localhost:8080/",
          "height": 34
        },
        "outputId": "a6c82561-f6c3-42e8-a450-67341b716b5d"
      },
      "source": [
        "NB_clf=GaussianNB()\n",
        "NB_pipe=make_pipeline(scaler,NB_clf)\n",
        "NB_cv_score=cross_val_score(NB_pipe,X,y,scoring=\"roc_auc\")\n",
        "NB_cv_score.mean()"
      ],
      "execution_count": null,
      "outputs": [
        {
          "output_type": "execute_result",
          "data": {
            "text/plain": [
              "0.7683000653216028"
            ]
          },
          "metadata": {
            "tags": []
          },
          "execution_count": 74
        }
      ]
    },
    {
      "cell_type": "markdown",
      "metadata": {
        "id": "RjruA-rxZ4LJ",
        "colab_type": "text"
      },
      "source": [
        "## Random Forest"
      ]
    },
    {
      "cell_type": "code",
      "metadata": {
        "id": "zZkMXQ-xZ66K",
        "colab_type": "code",
        "colab": {
          "base_uri": "https://localhost:8080/",
          "height": 34
        },
        "outputId": "1c08eeed-a70e-4755-ff71-8285369629c0"
      },
      "source": [
        "RF_clf=RandomForestClassifier(max_depth=10)\n",
        "RF_pipe=make_pipeline(scaler,RF_clf)\n",
        "RF_cv_score=cross_val_score(RF_pipe,X,y,scoring=\"roc_auc\")\n",
        "RF_cv_score.mean()"
      ],
      "execution_count": null,
      "outputs": [
        {
          "output_type": "execute_result",
          "data": {
            "text/plain": [
              "0.8027654853684961"
            ]
          },
          "metadata": {
            "tags": []
          },
          "execution_count": 67
        }
      ]
    },
    {
      "cell_type": "markdown",
      "metadata": {
        "id": "W-XLzSluaj65",
        "colab_type": "text"
      },
      "source": [
        "## Ensemble Algorithms"
      ]
    },
    {
      "cell_type": "code",
      "metadata": {
        "id": "9b19XuQnh1QT",
        "colab_type": "code",
        "colab": {
          "base_uri": "https://localhost:8080/",
          "height": 34
        },
        "outputId": "c96082ff-f792-4837-cec6-84f140efe018"
      },
      "source": [
        "Ens_clf=VotingClassifier(estimators=[('rf',RF_clf),('NB',NB_clf)],voting='soft')\n",
        "Ens_pipe=make_pipeline(scaler,Ens_clf)\n",
        "Ens_cv_score=cross_val_score(Ens_pipe,X,y,scoring=\"roc_auc\")\n",
        "Ens_cv_score.mean()"
      ],
      "execution_count": null,
      "outputs": [
        {
          "output_type": "execute_result",
          "data": {
            "text/plain": [
              "0.7988856148095125"
            ]
          },
          "metadata": {
            "tags": []
          },
          "execution_count": 75
        }
      ]
    },
    {
      "cell_type": "markdown",
      "metadata": {
        "id": "liLj8p9_cD_6",
        "colab_type": "text"
      },
      "source": [
        "# Predict Test DataFrame"
      ]
    },
    {
      "cell_type": "code",
      "metadata": {
        "id": "lzjsJwp6cH75",
        "colab_type": "code",
        "colab": {}
      },
      "source": [
        "def blight_model():\n",
        "  import pandas as pd\n",
        "  import numpy as np\n",
        "  from sklearn.preprocessing import MinMaxScaler\n",
        "  from sklearn.pipeline import make_pipeline\n",
        "  from sklearn.ensemble import RandomForestClassifier\n",
        "  from sklearn.preprocessing import LabelEncoder\n",
        "\n",
        "  address=pd.read_csv('addresses.csv',engine='python')\n",
        "  latlon=pd.read_csv('latlons.csv',engine='python')\n",
        "  df=pd.read_csv('train.csv',engine='python')\n",
        "  test_df=pd.read_csv('test.csv',engine='python')\n",
        "\n",
        "  df_address=pd.merge(df,address,on='ticket_id')\n",
        "  df=pd.merge(df_address,latlon,on='address')\n",
        "  df_test_address=pd.merge(test_df,address,on='ticket_id')\n",
        "  test_df=pd.merge(df_test_address,latlon,on='address')\n",
        "\n",
        "  category_cols=['agency_name','disposition','inspector_name','grafitti_status','country','state','violation_code']\n",
        "  for col in category_cols :\n",
        "              df[col]=df[col].astype('category')\n",
        "  for col in category_cols:\n",
        "              test_df[col]=test_df[col].astype('category')\n",
        "\n",
        "\n",
        "  X_cols=[\n",
        "  'agency_name',\n",
        "  'violation_code',\n",
        "  'inspector_name',\n",
        "  'country',\n",
        "  'state',\n",
        "  'disposition',\n",
        "  'fine_amount',\n",
        "  'admin_fee',\n",
        "  'state_fee',\n",
        "  'late_fee',\n",
        "  'discount_amount',\n",
        "  'judgment_amount',\n",
        "  'grafitti_status'\n",
        "  ,'lat'\n",
        "  ,'lon']\n",
        "\n",
        "  df=df.dropna(subset=['compliance'])\n",
        "  X=df[X_cols]\n",
        "  X_test_final=test_df[X_cols]\n",
        "  y=df['compliance']  \n",
        "\n",
        "\n",
        "\n",
        "  \n",
        "  deleted_cols=['judgment_amount','fine_amount','late_fee']\n",
        "  X['judge-fine-late_Amount']=X['judgment_amount']+X['fine_amount']+X['late_fee']\n",
        "  X = X.drop(deleted_cols, axis=1)\n",
        "\n",
        "  X_test_final['judge-fine-late_Amount']=X_test_final['judgment_amount']+X_test_final['fine_amount']+X_test_final['late_fee']\n",
        "  X_test_final = X_test_final.drop(deleted_cols, axis=1)\n",
        "\n",
        "  #For category type features:\n",
        "\n",
        "  #NA Values:\n",
        "  X=X.fillna(method='ffill')\n",
        "  X_test_final=X_test_final.fillna(method='ffill')\n",
        "\n",
        "\n",
        "  for col in category_cols:\n",
        "    total_df=pd.concat([X[col], X_test_final[col]])\n",
        "    le = LabelEncoder()\n",
        "\n",
        "    le.fit(total_df.astype(str))\n",
        "    X[col]=le.transform(X[col].astype(str))\n",
        "    X_test_final[col]=le.transform(X_test_final[col].astype(str))\n",
        "\n",
        "\n",
        "\n",
        "\n",
        "  #Scaling features\n",
        "\n",
        "  scaler=MinMaxScaler()\n",
        "  X_train_final=scaler.fit_transform(X)\n",
        "  X_test_final=scaler.transform(X_test_final)\n",
        "\n",
        "  RF_clf=RandomForestClassifier(max_depth=10,random_state=137)\n",
        "  RF_clf.fit(X_train_final,y)\n",
        "  pred_prob=RF_clf.predict_proba(X_test_final)\n",
        "  pred_prob1=pd.Series(pred_prob[:,1])\n",
        "  Final_Result=pd.concat([test_df['ticket_id'],pred_prob1],axis=1)\n",
        "  Final_Result.set_index('ticket_id',inplace=True)\n",
        "\n",
        "  return Final_Result\n"
      ],
      "execution_count": null,
      "outputs": []
    },
    {
      "cell_type": "code",
      "metadata": {
        "id": "zvSMo0_V6Wdg",
        "colab_type": "code",
        "colab": {
          "base_uri": "https://localhost:8080/",
          "height": 584
        },
        "outputId": "07dff37b-5492-48ef-e181-f5f4154eadd8"
      },
      "source": [
        "blight_model()"
      ],
      "execution_count": null,
      "outputs": [
        {
          "output_type": "stream",
          "text": [
            "/usr/local/lib/python3.6/dist-packages/ipykernel_launcher.py:52: SettingWithCopyWarning: \n",
            "A value is trying to be set on a copy of a slice from a DataFrame.\n",
            "Try using .loc[row_indexer,col_indexer] = value instead\n",
            "\n",
            "See the caveats in the documentation: https://pandas.pydata.org/pandas-docs/stable/user_guide/indexing.html#returning-a-view-versus-a-copy\n",
            "/usr/local/lib/python3.6/dist-packages/ipykernel_launcher.py:55: SettingWithCopyWarning: \n",
            "A value is trying to be set on a copy of a slice from a DataFrame.\n",
            "Try using .loc[row_indexer,col_indexer] = value instead\n",
            "\n",
            "See the caveats in the documentation: https://pandas.pydata.org/pandas-docs/stable/user_guide/indexing.html#returning-a-view-versus-a-copy\n"
          ],
          "name": "stderr"
        },
        {
          "output_type": "execute_result",
          "data": {
            "text/html": [
              "<div>\n",
              "<style scoped>\n",
              "    .dataframe tbody tr th:only-of-type {\n",
              "        vertical-align: middle;\n",
              "    }\n",
              "\n",
              "    .dataframe tbody tr th {\n",
              "        vertical-align: top;\n",
              "    }\n",
              "\n",
              "    .dataframe thead th {\n",
              "        text-align: right;\n",
              "    }\n",
              "</style>\n",
              "<table border=\"1\" class=\"dataframe\">\n",
              "  <thead>\n",
              "    <tr style=\"text-align: right;\">\n",
              "      <th></th>\n",
              "      <th>ticket_id</th>\n",
              "      <th>0</th>\n",
              "    </tr>\n",
              "  </thead>\n",
              "  <tbody>\n",
              "    <tr>\n",
              "      <th>0</th>\n",
              "      <td>284932</td>\n",
              "      <td>0.080530</td>\n",
              "    </tr>\n",
              "    <tr>\n",
              "      <th>1</th>\n",
              "      <td>285362</td>\n",
              "      <td>0.025142</td>\n",
              "    </tr>\n",
              "    <tr>\n",
              "      <th>2</th>\n",
              "      <td>285361</td>\n",
              "      <td>0.065867</td>\n",
              "    </tr>\n",
              "    <tr>\n",
              "      <th>3</th>\n",
              "      <td>285338</td>\n",
              "      <td>0.075102</td>\n",
              "    </tr>\n",
              "    <tr>\n",
              "      <th>4</th>\n",
              "      <td>285346</td>\n",
              "      <td>0.085854</td>\n",
              "    </tr>\n",
              "    <tr>\n",
              "      <th>...</th>\n",
              "      <td>...</td>\n",
              "      <td>...</td>\n",
              "    </tr>\n",
              "    <tr>\n",
              "      <th>60996</th>\n",
              "      <td>376496</td>\n",
              "      <td>0.014608</td>\n",
              "    </tr>\n",
              "    <tr>\n",
              "      <th>60997</th>\n",
              "      <td>376497</td>\n",
              "      <td>0.014608</td>\n",
              "    </tr>\n",
              "    <tr>\n",
              "      <th>60998</th>\n",
              "      <td>376499</td>\n",
              "      <td>0.066385</td>\n",
              "    </tr>\n",
              "    <tr>\n",
              "      <th>60999</th>\n",
              "      <td>376500</td>\n",
              "      <td>0.066385</td>\n",
              "    </tr>\n",
              "    <tr>\n",
              "      <th>61000</th>\n",
              "      <td>369851</td>\n",
              "      <td>0.261270</td>\n",
              "    </tr>\n",
              "  </tbody>\n",
              "</table>\n",
              "<p>61001 rows × 2 columns</p>\n",
              "</div>"
            ],
            "text/plain": [
              "       ticket_id         0\n",
              "0         284932  0.080530\n",
              "1         285362  0.025142\n",
              "2         285361  0.065867\n",
              "3         285338  0.075102\n",
              "4         285346  0.085854\n",
              "...          ...       ...\n",
              "60996     376496  0.014608\n",
              "60997     376497  0.014608\n",
              "60998     376499  0.066385\n",
              "60999     376500  0.066385\n",
              "61000     369851  0.261270\n",
              "\n",
              "[61001 rows x 2 columns]"
            ]
          },
          "metadata": {
            "tags": []
          },
          "execution_count": 150
        }
      ]
    }
  ]
}
